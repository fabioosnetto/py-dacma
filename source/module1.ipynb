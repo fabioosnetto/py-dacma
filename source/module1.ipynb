{
 "cells": [
  {
   "cell_type": "markdown",
   "metadata": {},
   "source": [
    "# Shared Data Source Synchronization Issue\n",
    "\n",
    "1. Import all application;\n",
    "2. Process different files;\n",
    "3. Separate files of forms;\n",
    "4. Restruct application, setting one folder for each form;\n",
    "\n",
    "1. Process all application Data Modules;\n",
    "2. Create the Data Module of each form;\n",
    "3. Cross DMs used by form with application DMs;\n",
    "3. Code form Data Module;"
   ]
  },
  {
   "cell_type": "code",
   "execution_count": 262,
   "metadata": {},
   "outputs": [],
   "source": [
    "from pathlib import Path\n",
    "import pandas as pd\n",
    "\n",
    "projectSourcePath = Path.cwd()\n",
    "appFolders        = 'erp-dktp-folders'\n",
    "originalApp       = 'original/app'\n",
    "originalAppPath   = Path(projectSourcePath.joinpath('../..', appFolders, originalApp))\n",
    "\n",
    "appContent     = []\n",
    "appFolders     = []\n",
    "appFilesInRoot = []\n",
    "if originalAppPath.exists() and originalAppPath.is_dir():\n",
    "   for item in Path.iterdir(originalAppPath):\n",
    "      name      = str(item).split('/').pop()\n",
    "      extension = item.suffix if item.suffix != '' else None\n",
    "      baseName  = name.replace(extension, '') if extension is not None else name\n",
    "      \n",
    "      # \n",
    "\n",
    "      # files in root\n",
    "      if not Path(item).is_dir():\n",
    "         appFilesInRoot.append({\n",
    "            'baseName': baseName,\n",
    "            'extension': extension,\n",
    "            'name': name,\n",
    "            'path': item\n",
    "         })\n",
    "      # folders in root\n",
    "      else:\n",
    "         appFolders.append({\n",
    "            'baseName': baseName,\n",
    "            'name': name,\n",
    "            'path': item\n",
    "         })\n",
    "      # all content in root\n",
    "      appContent.append({\n",
    "         'baseName': baseName,\n",
    "         'extension': extension,\n",
    "         'name': name,\n",
    "         'path': item\n",
    "      })"
   ]
  },
  {
   "cell_type": "code",
   "execution_count": null,
   "metadata": {},
   "outputs": [],
   "source": [
    "print('\\nApp Content In Root Directory\\n')\n",
    "appContentDF = pd.DataFrame(appContent).sort_values('name')\n",
    "appContentDF.info()\n",
    "display(appContentDF)"
   ]
  },
  {
   "cell_type": "code",
   "execution_count": null,
   "metadata": {},
   "outputs": [],
   "source": [
    "print('\\nApp Folders In Root Directory\\n')\n",
    "appFoldersDF = pd.DataFrame(appFolders).sort_values('name')\n",
    "appFoldersDF.info()\n",
    "display(appFoldersDF)"
   ]
  },
  {
   "cell_type": "code",
   "execution_count": null,
   "metadata": {},
   "outputs": [],
   "source": [
    "print('\\nApp Files In Root Directory\\n')\n",
    "appFilesInRootDF = pd.DataFrame(appFilesInRoot).sort_values('name')\n",
    "appFilesInRootDF.info()\n",
    "display(appFilesInRootDF)\n",
    "print('Files Without Extension')\n",
    "display(appFilesInRootDF[appFilesInRootDF['extension'].isna()])"
   ]
  },
  {
   "cell_type": "code",
   "execution_count": null,
   "metadata": {},
   "outputs": [],
   "source": [
    "print('\\nApp File Extensions In Root Directory\\n')\n",
    "diffFilesSuffixes = (appFilesInRootDF\n",
    "                     .groupby('extension')\n",
    "                     .all()\n",
    "                     .drop(['baseName', 'name', 'path'], axis=1)\n",
    "                     .reset_index())\n",
    "diffFilesSuffixes.info()\n",
    "display(diffFilesSuffixes)"
   ]
  },
  {
   "cell_type": "code",
   "execution_count": null,
   "metadata": {},
   "outputs": [],
   "source": [
    "print('\\nApp Unit Files In Root Directory\\n')\n",
    "unitExtensions     = ['.pas', '.dfm', '.ddp', '.dcu']\n",
    "unitTempExtensions = ['.~pas', '.~dfm', '.~ddp']\n",
    "\n",
    "delphiUnitFilesDF = appFilesInRootDF[appFilesInRootDF['extension'].isin(unitExtensions + unitTempExtensions)]\n",
    "delphiUnitFilesDF.info()\n",
    "display(delphiUnitFilesDF)"
   ]
  },
  {
   "cell_type": "code",
   "execution_count": 268,
   "metadata": {},
   "outputs": [],
   "source": [
    "delphiUnitsPasDF = delphiUnitFilesDF[delphiUnitFilesDF['extension'] == '.pas'].copy() # pas code files\n",
    "delphiUnitsDfmDF = delphiUnitFilesDF[delphiUnitFilesDF['extension'] == '.dfm'].copy() # dfm files\n",
    "delphiUnitsDdpDF = delphiUnitFilesDF[delphiUnitFilesDF['extension'] == '.ddp'].copy() # ddp files\n",
    "delphiUnitsDcuDF = delphiUnitFilesDF[delphiUnitFilesDF['extension'] == '.dcu'].copy() # dcu files\n",
    "\n",
    "delphiUnitsTempPasDF = delphiUnitFilesDF[delphiUnitFilesDF['extension'] == '.~pas'].copy() # temp pas files\n",
    "delphiUnitsTempDfmDF = delphiUnitFilesDF[delphiUnitFilesDF['extension'] == '.~dfm'].copy() # temp dfm files\n",
    "delphiUnitsTempDdpDF = delphiUnitFilesDF[delphiUnitFilesDF['extension'] == '.~ddp'].copy() # temp ddp files"
   ]
  },
  {
   "cell_type": "code",
   "execution_count": null,
   "metadata": {},
   "outputs": [],
   "source": [
    "print('\\nApp .pas Files in Root Directory\\n')\n",
    "delphiUnitsPasDF.info()"
   ]
  },
  {
   "cell_type": "code",
   "execution_count": null,
   "metadata": {},
   "outputs": [],
   "source": [
    "print('\\nApp .dfm Files in Root Directory\\n')\n",
    "delphiUnitsDfmDF.info()"
   ]
  },
  {
   "cell_type": "code",
   "execution_count": null,
   "metadata": {},
   "outputs": [],
   "source": [
    "print('\\nApp .ddp Files in Root Directory\\n')\n",
    "delphiUnitsDdpDF.info()"
   ]
  },
  {
   "cell_type": "code",
   "execution_count": null,
   "metadata": {},
   "outputs": [],
   "source": [
    "print('\\nApp .dcu Files in Root Directory\\n')\n",
    "delphiUnitsDcuDF.info()"
   ]
  },
  {
   "cell_type": "code",
   "execution_count": null,
   "metadata": {},
   "outputs": [],
   "source": [
    "print('\\nApp .~pas Files in Root Directory\\n')\n",
    "delphiUnitsTempPasDF.info()"
   ]
  },
  {
   "cell_type": "code",
   "execution_count": null,
   "metadata": {},
   "outputs": [],
   "source": [
    "print('\\nApp .~dfm Files in Root Directory\\n')\n",
    "delphiUnitsTempDfmDF.info()"
   ]
  },
  {
   "cell_type": "code",
   "execution_count": null,
   "metadata": {},
   "outputs": [],
   "source": [
    "print('\\nApp .~ddp Files in Root Directory\\n')\n",
    "delphiUnitsTempDdpDF.info()"
   ]
  },
  {
   "cell_type": "code",
   "execution_count": null,
   "metadata": {},
   "outputs": [],
   "source": [
    "delphiUnitsDF = delphiUnitsPasDF\n",
    "\n",
    "delphiUnitsDF.loc[:, 'dfm']  = None\n",
    "delphiUnitsDF.loc[:, 'ddp']  = None\n",
    "delphiUnitsDF.loc[:, 'dcu']  = None\n",
    "delphiUnitsDF.loc[:, '~pas'] = None\n",
    "delphiUnitsDF.loc[:, '~dfm'] = None\n",
    "delphiUnitsDF.loc[:, '~ddp'] = None\n",
    "\n",
    "delphiUnitsDF = delphiUnitsDF[['baseName', 'dfm', 'ddp', 'dcu', '~pas', '~dfm', '~ddp', 'name', 'extension', 'path']]\n",
    "\n",
    "\n",
    "# link all unit related files\n",
    "for index, row in delphiUnitsDF.iterrows():\n",
    "   sameNameItem = delphiUnitFilesDF.loc[delphiUnitFilesDF['baseName'].str.upper() == str(row['baseName']).upper()]\n",
    "\n",
    "   if not sameNameItem.empty:\n",
    "      dfmItem      = sameNameItem.loc[sameNameItem['extension'] == '.dfm', 'name']\n",
    "      ddpItem      = sameNameItem.loc[sameNameItem['extension'] == '.ddp', 'name']\n",
    "      dcuItem      = sameNameItem.loc[sameNameItem['extension'] == '.dcu', 'name']\n",
    "      temp_pasItem = sameNameItem.loc[sameNameItem['extension'] == '.~pas', 'name']\n",
    "      temp_dfmItem = sameNameItem.loc[sameNameItem['extension'] == '.~dfm', 'name']\n",
    "      temp_ddpItem = sameNameItem.loc[sameNameItem['extension'] == '.~ddp', 'name']\n",
    "\n",
    "      if not dfmItem.empty:      delphiUnitsDF.loc[index, 'dfm']  = dfmItem.iloc[0]\n",
    "      if not ddpItem.empty:      delphiUnitsDF.loc[index, 'ddp']  = ddpItem.iloc[0]\n",
    "      if not dcuItem.empty:      delphiUnitsDF.loc[index, 'dcu']  = dcuItem.iloc[0]\n",
    "      if not temp_pasItem.empty: delphiUnitsDF.loc[index, '~pas'] = temp_pasItem.iloc[0]\n",
    "      if not temp_dfmItem.empty: delphiUnitsDF.loc[index, '~dfm'] = temp_dfmItem.iloc[0]\n",
    "      if not temp_ddpItem.empty: delphiUnitsDF.loc[index, '~ddp'] = temp_ddpItem.iloc[0]\n",
    "\n",
    "delphiUnitsDF.info()\n",
    "display(delphiUnitsDF)"
   ]
  },
  {
   "cell_type": "code",
   "execution_count": null,
   "metadata": {},
   "outputs": [],
   "source": [
    "# dfm files not linked to a pascal file\n",
    "print('\\nDFM Files Not Linked to Pascal File\\n')\n",
    "for index, row in delphiUnitsDfmDF.iterrows():\n",
    "   item = delphiUnitsDF.loc[delphiUnitsDF['dfm'] == row['name']]\n",
    "   if item.empty:\n",
    "      print(row['name'])\n",
    "\n",
    "# ddp files not linked to a pascal file\n",
    "print('\\nDDP Files Not Linked to Pascal File\\n')\n",
    "for index, row in delphiUnitsDdpDF.iterrows():\n",
    "   item = delphiUnitsDF.loc[delphiUnitsDF['ddp'] == row['name']]\n",
    "   if item.empty:\n",
    "      print(row['name'])\n",
    "\n",
    "# dcu files not linked to a pascal file\n",
    "print('\\nDCU Files Not Linked to Pascal File\\n')\n",
    "for index, row in delphiUnitsDcuDF.iterrows():\n",
    "   item = delphiUnitsDF.loc[delphiUnitsDF['dcu'] == row['name']]\n",
    "   if item.empty:\n",
    "      print(row['name'])\n",
    "\n",
    "# ~pas files not linked to a pascal file\n",
    "print('\\n~PAS Files Not Linked to Pascal File\\n')\n",
    "for index, row in delphiUnitsTempPasDF.iterrows():\n",
    "   item = delphiUnitsDF.loc[delphiUnitsDF['~pas'] == row['name']]\n",
    "   if item.empty:\n",
    "      print(row['name'])\n",
    "\n",
    "# ~dfm files not linked to a pascal file\n",
    "print('\\n~DFM Files Not Linked to Pascal File\\n')\n",
    "for index, row in delphiUnitsTempDfmDF.iterrows():\n",
    "   item = delphiUnitsDF.loc[delphiUnitsDF['~dfm'] == row['name']]\n",
    "   if item.empty:\n",
    "      print(row['name'])\n",
    "\n",
    "# ~ddp files not linked to a pascal file\n",
    "print('\\n~DDP Files Not Linked to Pascal File\\n')\n",
    "for index, row in delphiUnitsTempDdpDF.iterrows():\n",
    "   item = delphiUnitsDF.loc[delphiUnitsDF['~ddp'] == row['name']]\n",
    "   if item.empty:\n",
    "      print(row['name'])"
   ]
  }
 ],
 "metadata": {
  "kernelspec": {
   "display_name": "env",
   "language": "python",
   "name": "python3"
  },
  "language_info": {
   "codemirror_mode": {
    "name": "ipython",
    "version": 3
   },
   "file_extension": ".py",
   "mimetype": "text/x-python",
   "name": "python",
   "nbconvert_exporter": "python",
   "pygments_lexer": "ipython3",
   "version": "3.13.1"
  }
 },
 "nbformat": 4,
 "nbformat_minor": 2
}
